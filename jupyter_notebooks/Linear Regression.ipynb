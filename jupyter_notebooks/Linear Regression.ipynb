{
 "cells": [
  {
   "cell_type": "code",
   "execution_count": 1,
   "metadata": {},
   "outputs": [
    {
     "name": "stderr",
     "output_type": "stream",
     "text": [
      "/Users/Supra/anaconda3/lib/python3.6/site-packages/h5py/__init__.py:34: FutureWarning: Conversion of the second argument of issubdtype from `float` to `np.floating` is deprecated. In future, it will be treated as `np.float64 == np.dtype(float).type`.\n",
      "  from ._conv import register_converters as _register_converters\n"
     ]
    }
   ],
   "source": [
    "# basic linear regression\n",
    "import tensorflow as tf\n",
    "import numpy\n",
    "import matplotlib.pyplot as plt"
   ]
  },
  {
   "cell_type": "code",
   "execution_count": 2,
   "metadata": {
    "collapsed": true
   },
   "outputs": [],
   "source": [
    "# parameters\n",
    "learning_rate = 0.01\n",
    "training_epochs = 1000\n",
    "batch_size = 50"
   ]
  },
  {
   "cell_type": "code",
   "execution_count": 3,
   "metadata": {},
   "outputs": [],
   "source": [
    "# training Data\n",
    "X_train = numpy.asarray([3.3,4.4,5.5,6.71,6.93,4.168,9.779,6.182,7.59,2.167,\n",
    "                         7.042,10.791,5.313,7.997,5.654,9.27,3.1])\n",
    "Y_train = numpy.asarray([1.7,2.76,2.09,3.19,1.694,1.573,3.366,2.596,2.53,1.221,\n",
    "                         2.827,3.465,1.65,2.904,2.42,2.94,1.3])\n",
    "# numpy array shape returns a list whose first element is the row, second is the column\n",
    "n_samples = X_train.shape[0]"
   ]
  },
  {
   "cell_type": "code",
   "execution_count": 4,
   "metadata": {
    "collapsed": true
   },
   "outputs": [],
   "source": [
    "# tf graph input (normal \"float\" because at a time we are using one single unit of x)\n",
    "x = tf.placeholder(\"float\")\n",
    "y = tf.placeholder(\"float\")\n",
    "# set model weights ()\n",
    "W = tf.Variable(numpy.random.randn(),name=\"weight\")\n",
    "b = tf.Variable(numpy.random.randn(),name=\"bias\")"
   ]
  },
  {
   "cell_type": "code",
   "execution_count": 5,
   "metadata": {},
   "outputs": [],
   "source": [
    "# construct a linear model\n",
    "pred = tf.add(tf.multiply(x,W),b)\n",
    "# Mean squared error (2 is for coefficient; n_samples for mean) (1/2n*(y-y^)^2) reduce sum adds up all vector units\n",
    "loss = tf.reduce_sum(tf.pow(pred-y,2))/(2*n_samples)\n",
    "optimizer = tf.train.GradientDescentOptimizer(learning_rate).minimize(loss)"
   ]
  },
  {
   "cell_type": "code",
   "execution_count": 6,
   "metadata": {
    "collapsed": true
   },
   "outputs": [],
   "source": [
    "# Initialize the variables (i.e. assign their default value)\n",
    "init = tf.global_variables_initializer()"
   ]
  },
  {
   "cell_type": "code",
   "execution_count": 8,
   "metadata": {},
   "outputs": [
    {
     "name": "stdout",
     "output_type": "stream",
     "text": [
      "Epoch: 0050 loss= 0.228473872 W= 0.46718258 b= -0.76385325\n",
      "Epoch: 0100 loss= 0.210972726 W= 0.45424157 b= -0.6707565\n",
      "Epoch: 0150 loss= 0.195492357 W= 0.44207013 b= -0.58319575\n",
      "Epoch: 0200 loss= 0.181799933 W= 0.43062264 b= -0.5008441\n",
      "Epoch: 0250 loss= 0.169688568 W= 0.4198561 b= -0.4233899\n",
      "Epoch: 0300 loss= 0.158975855 W= 0.40972975 b= -0.3505416\n",
      "Epoch: 0350 loss= 0.149500385 W= 0.40020564 b= -0.28202593\n",
      "Epoch: 0400 loss= 0.141119316 W= 0.39124814 b= -0.21758564\n",
      "Epoch: 0450 loss= 0.133706242 W= 0.3828231 b= -0.15697758\n",
      "Epoch: 0500 loss= 0.127149478 W= 0.37489933 b= -0.09997436\n",
      "Epoch: 0550 loss= 0.121350080 W= 0.36744687 b= -0.046361383\n",
      "Epoch: 0600 loss= 0.116220653 W= 0.3604375 b= 0.0040629483\n",
      "Epoch: 0650 loss= 0.111683771 W= 0.35384512 b= 0.051488385\n",
      "Epoch: 0700 loss= 0.107671060 W= 0.34764478 b= 0.09609319\n",
      "Epoch: 0750 loss= 0.104121983 W= 0.3418132 b= 0.13804516\n",
      "Epoch: 0800 loss= 0.100983024 W= 0.33632848 b= 0.17750177\n",
      "Epoch: 0850 loss= 0.098206803 W= 0.33117002 b= 0.21461171\n",
      "Epoch: 0900 loss= 0.095751368 W= 0.32631823 b= 0.2495149\n",
      "Epoch: 0950 loss= 0.093579769 W= 0.321755 b= 0.28234237\n",
      "Epoch: 1000 loss= 0.091659129 W= 0.3174632 b= 0.3132177\n"
     ]
    },
    {
     "data": {
      "image/png": "[encoded data removed]",
      "text/plain": [
       "<matplotlib.figure.Figure at 0x181ae230f0>"
      ]
     },
     "metadata": {},
     "output_type": "display_data"
    }
   ],
   "source": [
    "# session\n",
    "with tf.Session() as sess:\n",
    "    sess.run(init)\n",
    "    # fit all training data\n",
    "    for epoch in range(training_epochs):\n",
    "        for (x_,y_) in zip(X_train,Y_train):\n",
    "            sess.run(optimizer,feed_dict={x: x_,y: y_})\n",
    "            # you can print all the variables whose values are actually changed in due course\n",
    "        if (epoch+1)%batch_size == 0:\n",
    "            c = sess.run(loss, feed_dict={x: X_train,y:Y_train})\n",
    "            print(\"Epoch:\",'%04d'%(epoch+1), \"loss=\", \"{:.9f}\".format(c), \\\n",
    "                  \"W=\", sess.run(W), \"b=\", sess.run(b))\n",
    "                \n",
    "    # graphic display\n",
    "    plt.plot(X_train, Y_train, 'ro', label='Original data')\n",
    "    plt.plot(X_train, sess.run(W) * X_train + sess.run(b), label='Fitted line')\n",
    "    plt.legend()\n",
    "    plt.show()"
   ]
  },
  {
   "cell_type": "markdown",
   "metadata": {},
   "source": [
    "Observations:\n",
    "1. Never mess with variable names and types\n",
    "2. Never confuse between tensor and normal variable types\n",
    "3. tf.float32 is not same as float32 and vice-versa"
   ]
  }
 ],
 "metadata": {
  "kernelspec": {
   "display_name": "Python 3",
   "language": "python",
   "name": "python3"
  },
  "language_info": {
   "codemirror_mode": {
    "name": "ipython",
    "version": 3
   },
   "file_extension": ".py",
   "mimetype": "text/x-python",
   "name": "python",
   "nbconvert_exporter": "python",
   "pygments_lexer": "ipython3",
   "version": "3.6.3"
  }
 },
 "nbformat": 4,
 "nbformat_minor": 2
}
