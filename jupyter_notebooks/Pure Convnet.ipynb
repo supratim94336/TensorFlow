{
 "cells": [
  {
   "cell_type": "markdown",
   "metadata": {},
   "source": [
    "![title](../img/conv.png)"
   ]
  },
  {
   "cell_type": "code",
   "execution_count": 1,
   "metadata": {},
   "outputs": [
    {
     "name": "stderr",
     "output_type": "stream",
     "text": [
      "/Users/Supra/anaconda3/lib/python3.6/site-packages/h5py/__init__.py:34: FutureWarning: Conversion of the second argument of issubdtype from `float` to `np.floating` is deprecated. In future, it will be treated as `np.float64 == np.dtype(float).type`.\n",
      "  from ._conv import register_converters as _register_converters\n"
     ]
    },
    {
     "name": "stdout",
     "output_type": "stream",
     "text": [
      "Extracting /tmp/data/train-images-idx3-ubyte.gz\n",
      "Extracting /tmp/data/train-labels-idx1-ubyte.gz\n",
      "Extracting /tmp/data/t10k-images-idx3-ubyte.gz\n",
      "Extracting /tmp/data/t10k-labels-idx1-ubyte.gz\n"
     ]
    }
   ],
   "source": [
    "from __future__ import division, print_function, absolute_import\n",
    "\n",
    "# Import MNIST data\n",
    "from tensorflow.examples.tutorials.mnist import input_data\n",
    "mnist = input_data.read_data_sets(\"/tmp/data/\", one_hot=False)\n",
    "\n",
    "import tensorflow as tf\n",
    "import matplotlib.pyplot as plt\n",
    "import numpy as np"
   ]
  },
  {
   "cell_type": "code",
   "execution_count": 3,
   "metadata": {
    "collapsed": true
   },
   "outputs": [],
   "source": [
    "# essential network Parameters\n",
    "learning_rate = 0.001\n",
    "num_steps = 2000\n",
    "batch_size = 128\n",
    "\n",
    "num_input = 784 # mnist data input (shape: 28*28)\n",
    "num_classes = 10 # mnist total classes (0-9 digits)\n",
    "dropout = 0.25 # dropout prob"
   ]
  },
  {
   "cell_type": "code",
   "execution_count": 8,
   "metadata": {},
   "outputs": [],
   "source": [
    "\"\"\"\n",
    "new AUTO_REUSE option does the trick.\n",
    "from the tf.variable_scope API docs: if reuse=tf.AUTO_REUSE, \n",
    "we create variables if they do not exist, and return them otherwise.\n",
    "basic example of sharing a variable AUTO_REUSE:\n",
    "\"\"\"\n",
    "\n",
    "def foo():\n",
    "  with tf.variable_scope(\"foo\", reuse=tf.AUTO_REUSE):\n",
    "    v = tf.get_variable(\"v\", [1])\n",
    "  return v\n",
    "\n",
    "v1 = foo()  # Creates v.\n",
    "v2 = foo()  # Gets the same, existing v.\n",
    "assert v1 == v2\n",
    "\"\"\"\n",
    "more on scope:\n",
    "https://stackoverflow.com/questions/35919020/whats-the-difference-of-name-scope-and-a-variable-scope-in-tensorflow\n",
    "\"\"\""
   ]
  },
  {
   "cell_type": "code",
   "execution_count": 10,
   "metadata": {},
   "outputs": [],
   "source": [
    "def conv_net_2d(inputs, labels, dropout_prob, reuse, is_training):\n",
    "    # defining scope for reusing the variables\n",
    "    with tf.variable_scope('ConvNet', reuse=reuse):\n",
    "        # as tf estimator accepts inputs in a dict\n",
    "        x = inputs['images']\n",
    "        # mnist images have flat 784 features, conv net takes 4d inputs\n",
    "        x = tf.reshape(x, shape=[-1,28,28,1])\n",
    "        # first conv layer with 32 filters and 5x5 kernel\n",
    "        conv1 = tf.layers.conv2d(x, 32, 5, activation=tf.nn.relu)\n",
    "        # max pool layer with strides=2 and kernel_size=2\n",
    "        conv1 = tf.layers.max_pooling2d(conv1, 2, 2)\n",
    "        # second conv layer with 64 filters and 3x3 kernel\n",
    "        conv2 = tf.layers.conv2d(x, 64, 3, activation=tf.nn.relu)\n",
    "        # max pool layer with strides=2 and kernel_size=2\n",
    "        conv2 = tf.layers.max_pooling2d(conv2, 2, 2)\n",
    "        # flatten the image\n",
    "        fc1 = tf.contrib.layers.flatten(conv2)\n",
    "        fc1 = tf.layers.dense(fc1, 1024)\n",
    "        # if is_training is False then dropout won't be applied\n",
    "        fc1 = tf.layers.dropout(fc1, rate=dropout_prob, training=is_training)\n",
    "        out = tf.layers.dense(fc1, labels)\n",
    "        return out"
   ]
  }
 ],
 "metadata": {
  "kernelspec": {
   "display_name": "Python 3",
   "language": "python",
   "name": "python3"
  },
  "language_info": {
   "codemirror_mode": {
    "name": "ipython",
    "version": 3
   },
   "file_extension": ".py",
   "mimetype": "text/x-python",
   "name": "python",
   "nbconvert_exporter": "python",
   "pygments_lexer": "ipython3",
   "version": "3.6.3"
  }
 },
 "nbformat": 4,
 "nbformat_minor": 2
}
