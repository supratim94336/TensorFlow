{
 "cells": [
  {
   "cell_type": "markdown",
   "metadata": {},
   "source": [
    "### Linear Regression with Eager API"
   ]
  },
  {
   "cell_type": "code",
   "execution_count": 2,
   "metadata": {},
   "outputs": [
    {
     "name": "stderr",
     "output_type": "stream",
     "text": [
      "/Users/Supra/anaconda3/lib/python3.6/site-packages/h5py/__init__.py:34: FutureWarning: Conversion of the second argument of issubdtype from `float` to `np.floating` is deprecated. In future, it will be treated as `np.float64 == np.dtype(float).type`.\n",
      "  from ._conv import register_converters as _register_converters\n"
     ]
    }
   ],
   "source": [
    "from __future__ import print_function, division, absolute_import\n",
    "import matplotlib.pyplot as plt\n",
    "import numpy as np\n",
    "import tensorflow as tf"
   ]
  },
  {
   "cell_type": "code",
   "execution_count": 3,
   "metadata": {
    "collapsed": true
   },
   "outputs": [],
   "source": [
    "# eager api imports\n",
    "tfe = tf.contrib.eager\n",
    "tfe.enable_eager_execution()"
   ]
  },
  {
   "cell_type": "code",
   "execution_count": 6,
   "metadata": {
    "collapsed": true
   },
   "outputs": [],
   "source": [
    "# list of floats as the training samples\n",
    "train_X = [3.3, 4.4, 5.5, 6.71, 6.93, 4.168, 9.779, 6.182, 7.59, 2.167,\n",
    "           7.042, 10.791, 5.313, 7.997, 5.654, 9.27, 3.1]\n",
    "train_Y = [1.7, 2.76, 2.09, 3.19, 1.694, 1.573, 3.366, 2.596, 2.53, 1.221,\n",
    "           2.827, 3.465, 1.65, 2.904, 2.42, 2.94, 1.3]\n",
    "n_samples = len(train_X)\n",
    "\n",
    "# training parameters\n",
    "learning_rate = 0.01\n",
    "display_step = 100\n",
    "num_steps = 1000"
   ]
  },
  {
   "cell_type": "code",
   "execution_count": 25,
   "metadata": {},
   "outputs": [],
   "source": [
    "# no shape declared means scalar (inside is the initialized value)\n",
    "W = tfe.Variable(np.random.randn())\n",
    "b = tfe.Variable(np.random.randn())\n",
    "\n",
    "# linear regression func\n",
    "def linear_regression(input_vals):\n",
    "    return input_vals*W + b\n",
    "\n",
    "# compute loss\n",
    "def loss_fn(model_fn, input_vals, labels):\n",
    "    return tf.reduce_sum(tf.pow(model_fn(input_vals) - labels, 2))/(2 * n_samples)"
   ]
  },
  {
   "cell_type": "code",
   "execution_count": 26,
   "metadata": {
    "collapsed": true
   },
   "outputs": [],
   "source": [
    "# optimization\n",
    "optimizer = tf.train.GradientDescentOptimizer(learning_rate=learning_rate)\n",
    "\n",
    "# compute gradients\n",
    "grad = tfe.implicit_gradients(loss_fn)"
   ]
  },
  {
   "cell_type": "code",
   "execution_count": 36,
   "metadata": {},
   "outputs": [
    {
     "name": "stdout",
     "output_type": "stream",
     "text": [
      "Initial loss = 0.076928832 W:  0.25164887 b:  0.79870236\n",
      "Epoch: 0001 loss = 0.076928847 W = 0.25164887 b = 0.7987025\n",
      "Epoch: 0200 loss = 0.076928832 W = 0.25164554 b = 0.7987262\n",
      "Epoch: 0400 loss = 0.076928839 W = 0.25164375 b = 0.7987389\n",
      "Epoch: 0600 loss = 0.076928847 W = 0.25164205 b = 0.7987508\n",
      "Epoch: 0800 loss = 0.076928847 W = 0.25164038 b = 0.79876274\n",
      "Epoch: 1000 loss = 0.076928839 W = 0.2516387 b = 0.79877466\n",
      "tf.Tensor(\n",
      "[0.83040774 1.1072104  1.3840129  1.6884958  1.7438562  1.0488302\n",
      " 2.4607751  1.5556306  1.9099379  0.5453011  1.7720398  2.7154334\n",
      " 1.3369565  2.0123549  1.4227653  2.332691   0.78007996], shape=(17,), dtype=float32)\n"
     ]
    },
    {
     "data": {
      "image/png": "[encoded data removed]",
      "text/plain": [
       "<matplotlib.figure.Figure at 0x1c1f0c4d68>"
      ]
     },
     "metadata": {},
     "output_type": "display_data"
    }
   ],
   "source": [
    "print(\"Initial loss = {:0.9f}\".format(loss_fn(linear_regression, train_X, train_Y)),\"W: \",W.numpy(),\"b: \",b.numpy())\n",
    "\n",
    "for step in range(num_steps):\n",
    "    optimizer.apply_gradients(grad(linear_regression, train_X, train_Y))\n",
    "    if (step + 1) % display_step == 0 or step == 0:\n",
    "        print(\"Epoch:\", '%04d' % (step + 1), \"loss = \",\n",
    "              \"{:.9f}\".format(loss_fn(linear_regression, train_X, train_Y)),\n",
    "              \"W =\", W.numpy(), \"b =\", b.numpy())\n",
    "# W * train_X is a tf.Tensor and np.array(tf.Tensor) converts a tensor \n",
    "plt.plot(train_X, np.array(W * train_X + b), label='Fitted line')\n",
    "plt.plot(train_X, train_Y, 'ro', label='Original data')\n",
    "plt.legend()\n",
    "plt.show()"
   ]
  }
 ],
 "metadata": {
  "kernelspec": {
   "display_name": "Python 3",
   "language": "python",
   "name": "python3"
  },
  "language_info": {
   "codemirror_mode": {
    "name": "ipython",
    "version": 3
   },
   "file_extension": ".py",
   "mimetype": "text/x-python",
   "name": "python",
   "nbconvert_exporter": "python",
   "pygments_lexer": "ipython3",
   "version": "3.6.3"
  }
 },
 "nbformat": 4,
 "nbformat_minor": 2
}
