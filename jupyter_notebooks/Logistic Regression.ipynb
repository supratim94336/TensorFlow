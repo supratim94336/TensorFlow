{
 "cells": [
  {
   "cell_type": "markdown",
   "metadata": {},
   "source": [
    "#### MNIST handwritten digits  \n",
    "\n",
    "The dataset contains 60,000 examples for training and 10,000 examples for testing. The digits have been size-normalized and centered in a fixed-size image (28x28 pixels) with values from 0 to 1. For simplicity, each image has been flattened and converted to a 1-D numpy array of 784 features (28*28).\n",
    "![title](../img/mnist.png)"
   ]
  },
  {
   "cell_type": "code",
   "execution_count": 2,
   "metadata": {},
   "outputs": [
    {
     "name": "stdout",
     "output_type": "stream",
     "text": [
      "Successfully downloaded train-images-idx3-ubyte.gz 9912422 bytes.\n",
      "Extracting /tmp/data/train-images-idx3-ubyte.gz\n",
      "Successfully downloaded train-labels-idx1-ubyte.gz 28881 bytes.\n",
      "Extracting /tmp/data/train-labels-idx1-ubyte.gz\n",
      "Successfully downloaded t10k-images-idx3-ubyte.gz 1648877 bytes.\n",
      "Extracting /tmp/data/t10k-images-idx3-ubyte.gz\n",
      "Successfully downloaded t10k-labels-idx1-ubyte.gz 4542 bytes.\n",
      "Extracting /tmp/data/t10k-labels-idx1-ubyte.gz\n"
     ]
    }
   ],
   "source": [
    "import tensorflow as tf\n",
    "\n",
    "# import MINST data\n",
    "from tensorflow.examples.tutorials.mnist import input_data\n",
    "mnist = input_data.read_data_sets(\"/tmp/data/\", one_hot=True)"
   ]
  },
  {
   "cell_type": "code",
   "execution_count": 5,
   "metadata": {},
   "outputs": [],
   "source": [
    "# parameters\n",
    "learning_rate = 0.01\n",
    "training_epochs = 25\n",
    "batch_size = 100\n",
    "log_print = 1\n",
    "\n",
    "# tf graph input (None,784 because it depends on the number of inputs; placeholders are inputted by users, variables in \n",
    "# process of execution are changed)\n",
    "x = tf.placeholder(tf.float32, [None, 784]) # mnist data image of shape 28*28=784; None means, axis=1 is default\n",
    "y = tf.placeholder(tf.float32, [None, 10]) # 0-9 digits recognition => 10 classes\n",
    "W = tf.Variable(tf.ones([784,10]))\n",
    "b = tf.Variable(tf.ones([10]))\n",
    "\n",
    "# model (softmax = tf.exp(logits) / tf.reduce_sum(tf.exp(logits), axis)) (softmax(logits))\n",
    "y_hat = tf.nn.softmax(tf.matmul(x,W) + b)\n",
    "# */+/- these are scalar multiplications, no axis needed, for vector it will be tf.operation and axis needs to be fixed\n",
    "# beforehand\n",
    "# loss \n",
    "loss = tf.reduce_mean(-tf.reduce_sum(y*tf.log(y_hat),axis=1))\n",
    "# optimizer\n",
    "optimizer = tf.train.GradientDescentOptimizer(learning_rate).minimize(loss)\n",
    "# initialize\n",
    "init = tf.global_variables_initializer()"
   ]
  },
  {
   "cell_type": "code",
   "execution_count": 10,
   "metadata": {},
   "outputs": [
    {
     "name": "stdout",
     "output_type": "stream",
     "text": [
      "Epoch: 0001 | loss= 1.183808884\n",
      "Epoch: 0002 | loss= 0.665408830\n",
      "Epoch: 0003 | loss= 0.552996026\n",
      "Epoch: 0004 | loss= 0.498742459\n",
      "Epoch: 0005 | loss= 0.465566743\n",
      "Epoch: 0006 | loss= 0.442605241\n",
      "Epoch: 0007 | loss= 0.425556291\n",
      "Epoch: 0008 | loss= 0.412229003\n",
      "Epoch: 0009 | loss= 0.401405380\n",
      "Epoch: 0010 | loss= 0.392375708\n",
      "Epoch: 0011 | loss= 0.384811149\n",
      "Epoch: 0012 | loss= 0.378217488\n",
      "Epoch: 0013 | loss= 0.372418442\n",
      "Epoch: 0014 | loss= 0.367335863\n",
      "Epoch: 0015 | loss= 0.362769650\n",
      "Epoch: 0016 | loss= 0.358596652\n",
      "Epoch: 0017 | loss= 0.354906417\n",
      "Epoch: 0018 | loss= 0.351463047\n",
      "Epoch: 0019 | loss= 0.348330138\n",
      "Epoch: 0020 | loss= 0.345415566\n",
      "Epoch: 0021 | loss= 0.342789008\n",
      "Epoch: 0022 | loss= 0.340259088\n",
      "Epoch: 0023 | loss= 0.337925370\n",
      "Epoch: 0024 | loss= 0.335735542\n",
      "Epoch: 0025 | loss= 0.333735899\n",
      "Optimization Finished!\n",
      "Accuracy: 0.889\n"
     ]
    }
   ],
   "source": [
    "with tf.Session() as sess:\n",
    "    sess.run(init)\n",
    "    \n",
    "    for epoch in range(training_epochs):\n",
    "        avg_cost = 0\n",
    "        no_of_batches = int(mnist.train.num_examples/batch_size)\n",
    "        for batch in range(no_of_batches):\n",
    "            batch_xs, batch_ys = mnist.train.next_batch(batch_size)\n",
    "            _,c = sess.run([optimizer, loss], feed_dict={x:batch_xs, y:batch_ys})\n",
    "            avg_cost += c / no_of_batches\n",
    "        if (epoch + 1) % log_print == 0:\n",
    "            print(\"Epoch:\", '%04d' % (epoch+1), \"| loss=\", \"{:.9f}\".format(avg_cost))\n",
    "            \n",
    "    print(\"Optimization Finished!\")\n",
    "    # along the axis of columns which index is highest in terms of value and finally if that matches\n",
    "    correct_preds = tf.equal(tf.argmax(y_hat,1),tf.argmax(y,1))\n",
    "    # case true/false to 0/1 and sum_mean\n",
    "    accuracy = tf.reduce_mean(tf.cast(correct_preds, tf.float32))\n",
    "#     print(\"Accuracy:\", accuracy.eval({x: mnist.test.images[:3000], y: mnist.test.labels[:3000]}))\n",
    "    accuracy_value = sess.run(accuracy, feed_dict={x: mnist.test.images[:3000], y: mnist.test.labels[:3000]})\n",
    "    print(\"Accuracy:\",accuracy_value)"
   ]
  },
  {
   "cell_type": "markdown",
   "metadata": {},
   "source": [
    "#### Learnings:\n",
    "1. Why use variables?  \n",
    "   Because sess.run runs a graph from scratch, to cache the variables you have to use tf.Variable   func.eval/sess.run(func) are same"
   ]
  }
 ],
 "metadata": {
  "kernelspec": {
   "display_name": "Python 3",
   "language": "python",
   "name": "python3"
  },
  "language_info": {
   "codemirror_mode": {
    "name": "ipython",
    "version": 3
   },
   "file_extension": ".py",
   "mimetype": "text/x-python",
   "name": "python",
   "nbconvert_exporter": "python",
   "pygments_lexer": "ipython3",
   "version": "3.6.5"
  }
 },
 "nbformat": 4,
 "nbformat_minor": 2
}
