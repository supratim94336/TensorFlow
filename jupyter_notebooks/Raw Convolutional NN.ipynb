{
 "cells": [
  {
   "cell_type": "code",
   "execution_count": 1,
   "metadata": {},
   "outputs": [
    {
     "name": "stderr",
     "output_type": "stream",
     "text": [
      "/Users/Supra/anaconda3/lib/python3.6/site-packages/h5py/__init__.py:34: FutureWarning: Conversion of the second argument of issubdtype from `float` to `np.floating` is deprecated. In future, it will be treated as `np.float64 == np.dtype(float).type`.\n",
      "  from ._conv import register_converters as _register_converters\n"
     ]
    },
    {
     "name": "stdout",
     "output_type": "stream",
     "text": [
      "Successfully downloaded train-images-idx3-ubyte.gz 9912422 bytes.\n",
      "Extracting /tmp/data/train-images-idx3-ubyte.gz\n",
      "Successfully downloaded train-labels-idx1-ubyte.gz 28881 bytes.\n",
      "Extracting /tmp/data/train-labels-idx1-ubyte.gz\n",
      "Successfully downloaded t10k-images-idx3-ubyte.gz 1648877 bytes.\n",
      "Extracting /tmp/data/t10k-images-idx3-ubyte.gz\n",
      "Successfully downloaded t10k-labels-idx1-ubyte.gz 4542 bytes.\n",
      "Extracting /tmp/data/t10k-labels-idx1-ubyte.gz\n"
     ]
    }
   ],
   "source": [
    "from __future__ import division, print_function, absolute_import\n",
    "import tensorflow as tf\n",
    "# Import MNIST data\n",
    "from tensorflow.examples.tutorials.mnist import input_data\n",
    "mnist = input_data.read_data_sets(\"/tmp/data/\", one_hot=True)"
   ]
  },
  {
   "cell_type": "code",
   "execution_count": 14,
   "metadata": {
    "collapsed": true
   },
   "outputs": [],
   "source": [
    "# Training Parameters\n",
    "learning_rate = 0.001\n",
    "num_steps = 500\n",
    "batch_size = 128\n",
    "display_step = 10\n",
    "\n",
    "# Network Parameters\n",
    "num_input = 784 # MNIST data input (img shape: 28*28)\n",
    "num_classes = 10 # MNIST total classes (0-9 digits)\n",
    "dropout = 0.75 # Dropout, probability to keep units\n",
    "\n",
    "# tf Graph input\n",
    "X = tf.placeholder(tf.float32, [None, num_input])\n",
    "Y = tf.placeholder(tf.float32, [None, num_classes])\n",
    "keep_prob = tf.placeholder(tf.float32) # dropout (keep probability)"
   ]
  },
  {
   "cell_type": "code",
   "execution_count": 12,
   "metadata": {},
   "outputs": [
    {
     "name": "stdout",
     "output_type": "stream",
     "text": [
      "5\n"
     ]
    }
   ],
   "source": [
    "test_v = tf.Variable(tf.random_normal([5, 5, 1, 32]))\n",
    "# get_shape() returns an array with dimensions of the tensor and as_list returns it as a list\n",
    "v = test_v.get_shape().as_list()[0]\n",
    "print(v)"
   ]
  },
  {
   "cell_type": "code",
   "execution_count": 25,
   "metadata": {
    "collapsed": true
   },
   "outputs": [],
   "source": [
    "# wrappers for simplicity\n",
    "def conv2d(x, W, b, strides):\n",
    "    # conv2d wrapper, with bias and relu activation NHWC format\n",
    "    x = tf.nn.conv2d(x, W, strides=[1, strides, strides, 1], padding='SAME')\n",
    "    x = tf.nn.bias_add(x, b)\n",
    "    return tf.nn.relu(x)\n",
    "\n",
    "def maxpool2d(x, k):\n",
    "    # max_pool wrapper\n",
    "    return tf.nn.max_pool(x, ksize=[1, k, k, 1], strides=[1, k, k, 1], padding='SAME')\n",
    "\n",
    "# model creation\n",
    "def conv_net_2d(x, weights, biases, dropout):\n",
    "    # -1 means whatever be the batchsize, 28*28 is the image size, 1 is the channel\n",
    "    x = tf.reshape(x, [-1,28,28,1])\n",
    "    # layer 1: conv + max_pool\n",
    "    conv1 = conv2d(x, weights['wc1'], biases['bc1'], 1)\n",
    "    conv1 = maxpool2d(conv1, 2)\n",
    "    # layer 2: conv + max_pool\n",
    "    conv2 = conv2d(conv1, weights['wc2'], biases['bc2'], 1)\n",
    "    conv2 = maxpool2d(conv2, 2)\n",
    "    \n",
    "    # layer 3: fully connected layer (conv2 layer column should match wd1 row)\n",
    "    # also the output from conv2 is 4d we need it in 2d for fully connected layer\n",
    "    fc1 = tf.reshape(conv2, [-1, weights['wd1'].get_shape().as_list()[0]])\n",
    "    fc1 = tf.add(tf.matmul(fc1, weights['wd1']),biases['bd1'])\n",
    "    fc1 = tf.nn.relu(fc1)\n",
    "    \n",
    "    # dropout before final output layer\n",
    "    fc1 = tf.nn.dropout(fc1, dropout)\n",
    "    \n",
    "    # final output layer\n",
    "    out = tf.add(tf.matmul(fc1, weights['out']),biases['out'])\n",
    "    return out"
   ]
  },
  {
   "cell_type": "code",
   "execution_count": 26,
   "metadata": {},
   "outputs": [],
   "source": [
    "weights = {\n",
    "    # 5*5 convolution and 1 input 32 output channels\n",
    "    'wc1': tf.Variable(tf.random_normal([5,5,1,32])),\n",
    "    # 5*5 convolution and 32 input 64 output channels\n",
    "    'wc2': tf.Variable(tf.random_normal([5,5,32,64])),\n",
    "    # fully connected 7*7*64 input 512 output channels\n",
    "    'wd1': tf.Variable(tf.random_normal([7*7*64,512])),\n",
    "    # fully connected 512 input num_classes output channels\n",
    "    'out': tf.Variable(tf.random_normal([512,num_classes]))\n",
    "}\n",
    "biases = {\n",
    "    'bc1': tf.Variable(tf.random_normal([32])),\n",
    "    'bc2': tf.Variable(tf.random_normal([64])),\n",
    "    'bd1': tf.Variable(tf.random_normal([512])),\n",
    "    'out': tf.Variable(tf.random_normal([num_classes]))\n",
    "}"
   ]
  },
  {
   "cell_type": "code",
   "execution_count": 34,
   "metadata": {},
   "outputs": [],
   "source": [
    "# creating the model\n",
    "logits = conv_net_2d(X, weights, biases, keep_prob)\n",
    "prediction = tf.nn.softmax(logits)\n",
    "# loss and optimization\n",
    "loss_op = tf.reduce_mean(tf.nn.softmax_cross_entropy_with_logits_v2(logits=logits, labels=Y))\n",
    "optimizer = tf.train.AdamOptimizer(learning_rate=learning_rate)\n",
    "train_op = optimizer.minimize(loss_op)\n",
    "# evaluate model\n",
    "correct_pred = tf.equal(tf.argmax(prediction, 1), tf.argmax(Y, 1))\n",
    "accuracy = tf.reduce_mean(tf.cast(correct_pred, tf.float32))\n",
    "# initialize the variables (i.e. assign their default value)\n",
    "init = tf.global_variables_initializer()"
   ]
  },
  {
   "cell_type": "code",
   "execution_count": 35,
   "metadata": {},
   "outputs": [
    {
     "name": "stdout",
     "output_type": "stream",
     "text": [
      "Step 1, Minibatch Loss= 59029.6016, Training Accuracy= 0.109\n",
      "Step 10, Minibatch Loss= 35084.7422, Training Accuracy= 0.164\n",
      "Step 20, Minibatch Loss= 19891.8203, Training Accuracy= 0.422\n",
      "Step 30, Minibatch Loss= 12768.0820, Training Accuracy= 0.469\n",
      "Step 40, Minibatch Loss= 13014.6895, Training Accuracy= 0.469\n",
      "Step 50, Minibatch Loss= 8440.1973, Training Accuracy= 0.539\n",
      "Step 60, Minibatch Loss= 8236.7744, Training Accuracy= 0.648\n",
      "Step 70, Minibatch Loss= 7051.7437, Training Accuracy= 0.586\n",
      "Step 80, Minibatch Loss= 4410.2573, Training Accuracy= 0.703\n",
      "Step 90, Minibatch Loss= 5419.0713, Training Accuracy= 0.695\n",
      "Step 100, Minibatch Loss= 3985.4753, Training Accuracy= 0.750\n",
      "Step 110, Minibatch Loss= 2968.9658, Training Accuracy= 0.789\n",
      "Step 120, Minibatch Loss= 2122.8726, Training Accuracy= 0.789\n",
      "Step 130, Minibatch Loss= 3603.9929, Training Accuracy= 0.734\n",
      "Step 140, Minibatch Loss= 3869.3489, Training Accuracy= 0.742\n",
      "Step 150, Minibatch Loss= 1881.9287, Training Accuracy= 0.828\n",
      "Step 160, Minibatch Loss= 2443.7700, Training Accuracy= 0.781\n",
      "Step 170, Minibatch Loss= 3011.1165, Training Accuracy= 0.758\n",
      "Step 180, Minibatch Loss= 2327.1113, Training Accuracy= 0.867\n",
      "Step 190, Minibatch Loss= 1527.7751, Training Accuracy= 0.805\n",
      "Step 200, Minibatch Loss= 2254.5239, Training Accuracy= 0.805\n",
      "Step 210, Minibatch Loss= 3178.0088, Training Accuracy= 0.805\n",
      "Step 220, Minibatch Loss= 1292.6332, Training Accuracy= 0.898\n",
      "Step 230, Minibatch Loss= 1712.4028, Training Accuracy= 0.867\n",
      "Step 240, Minibatch Loss= 1796.3569, Training Accuracy= 0.836\n",
      "Step 250, Minibatch Loss= 1512.1205, Training Accuracy= 0.859\n",
      "Step 260, Minibatch Loss= 1249.9266, Training Accuracy= 0.883\n",
      "Step 270, Minibatch Loss= 1543.4062, Training Accuracy= 0.812\n",
      "Step 280, Minibatch Loss= 1308.2280, Training Accuracy= 0.828\n",
      "Step 290, Minibatch Loss= 1567.2136, Training Accuracy= 0.844\n",
      "Step 300, Minibatch Loss= 1525.7520, Training Accuracy= 0.852\n",
      "Step 310, Minibatch Loss= 868.5085, Training Accuracy= 0.883\n",
      "Step 320, Minibatch Loss= 850.6520, Training Accuracy= 0.906\n",
      "Step 330, Minibatch Loss= 1771.5012, Training Accuracy= 0.836\n",
      "Step 340, Minibatch Loss= 935.9230, Training Accuracy= 0.891\n",
      "Step 350, Minibatch Loss= 1200.6206, Training Accuracy= 0.836\n",
      "Step 360, Minibatch Loss= 1255.9847, Training Accuracy= 0.844\n",
      "Step 370, Minibatch Loss= 1415.2468, Training Accuracy= 0.852\n",
      "Step 380, Minibatch Loss= 574.2657, Training Accuracy= 0.875\n",
      "Step 390, Minibatch Loss= 1224.0660, Training Accuracy= 0.859\n",
      "Step 400, Minibatch Loss= 565.3083, Training Accuracy= 0.891\n",
      "Step 410, Minibatch Loss= 1704.0039, Training Accuracy= 0.805\n",
      "Step 420, Minibatch Loss= 954.5108, Training Accuracy= 0.867\n",
      "Step 430, Minibatch Loss= 633.4089, Training Accuracy= 0.906\n",
      "Step 440, Minibatch Loss= 1000.8981, Training Accuracy= 0.891\n",
      "Step 450, Minibatch Loss= 577.8550, Training Accuracy= 0.867\n",
      "Step 460, Minibatch Loss= 519.3961, Training Accuracy= 0.922\n",
      "Step 470, Minibatch Loss= 968.1583, Training Accuracy= 0.914\n",
      "Step 480, Minibatch Loss= 233.9410, Training Accuracy= 0.930\n",
      "Step 490, Minibatch Loss= 950.9941, Training Accuracy= 0.859\n",
      "Step 500, Minibatch Loss= 734.9258, Training Accuracy= 0.906\n",
      "Optimization Finished!\n",
      "Testing Accuracy: 0.93359375\n"
     ]
    }
   ],
   "source": [
    "with tf.Session() as sess:\n",
    "    sess.run(init)\n",
    "    for step in range(1, num_steps+1):\n",
    "        batch_x, batch_y = mnist.train.next_batch(batch_size)\n",
    "        sess.run(train_op, feed_dict={X: batch_x, Y: batch_y, keep_prob:dropout})\n",
    "        if step % display_step == 0 or step == 1:\n",
    "            # only values for placeholders are needed not variables which are already assigned\n",
    "            loss, acc = sess.run([loss_op, accuracy], feed_dict={X: batch_x, Y: batch_y, keep_prob:dropout})\n",
    "            print(\"Step \" + str(step) + \", Minibatch Loss= \" + \\\n",
    "                  \"{:.4f}\".format(loss) + \", Training Accuracy= \" + \"{:.3f}\".format(acc))\n",
    "    print(\"Optimization Finished!\")\n",
    "\n",
    "    # Calculate accuracy for 256 MNIST test images\n",
    "    print(\"Testing Accuracy:\", sess.run(accuracy, feed_dict={X: mnist.test.images[:256], Y: mnist.test.labels[:256], keep_prob: 1.0}))"
   ]
  },
  {
   "cell_type": "code",
   "execution_count": null,
   "metadata": {
    "collapsed": true
   },
   "outputs": [],
   "source": []
  }
 ],
 "metadata": {
  "kernelspec": {
   "display_name": "Python 3",
   "language": "python",
   "name": "python3"
  },
  "language_info": {
   "codemirror_mode": {
    "name": "ipython",
    "version": 3
   },
   "file_extension": ".py",
   "mimetype": "text/x-python",
   "name": "python",
   "nbconvert_exporter": "python",
   "pygments_lexer": "ipython3",
   "version": "3.6.3"
  }
 },
 "nbformat": 4,
 "nbformat_minor": 2
}
