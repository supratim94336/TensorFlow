{
 "cells": [
  {
   "cell_type": "markdown",
   "metadata": {},
   "source": [
    "## KMeans"
   ]
  },
  {
   "cell_type": "code",
   "execution_count": 14,
   "metadata": {},
   "outputs": [],
   "source": [
    "from __future__ import print_function\n",
    "\n",
    "import numpy as np\n",
    "import tensorflow as tf\n",
    "from tensorflow.contrib.factorization import KMeans\n",
    "# Ignore all GPUs, tf random forest does not benefit from it.\n",
    "import os\n",
    "os.environ[\"CUDA_VISIBLE_DEVICES\"] = \"\""
   ]
  },
  {
   "cell_type": "code",
   "execution_count": 15,
   "metadata": {},
   "outputs": [
    {
     "name": "stdout",
     "output_type": "stream",
     "text": [
      "Extracting /tmp/data/train-images-idx3-ubyte.gz\n",
      "Extracting /tmp/data/train-labels-idx1-ubyte.gz\n",
      "Extracting /tmp/data/t10k-images-idx3-ubyte.gz\n",
      "Extracting /tmp/data/t10k-labels-idx1-ubyte.gz\n"
     ]
    }
   ],
   "source": [
    "# Import MNIST data\n",
    "from tensorflow.examples.tutorials.mnist import input_data\n",
    "mnist = input_data.read_data_sets(\"/tmp/data/\", one_hot=True)\n",
    "full_data_x = mnist.train.images"
   ]
  },
  {
   "cell_type": "markdown",
   "metadata": {},
   "source": [
    "Setting up"
   ]
  },
  {
   "cell_type": "code",
   "execution_count": 129,
   "metadata": {},
   "outputs": [],
   "source": [
    "epochs=100\n",
    "batch_size=50\n",
    "display_points=50 \n",
    "clusters=25\n",
    "features=784\n",
    "classes=10\n",
    "\n",
    "X = tf.placeholder(tf.float32, shape=[None, features])\n",
    "Y = tf.placeholder(tf.float32, shape=[None, classes])\n",
    "\n",
    "kmeans = KMeans(num_clusters=clusters, use_mini_batch=True,inputs=X,distance_metric='cosine')"
   ]
  },
  {
   "cell_type": "markdown",
   "metadata": {},
   "source": [
    "1. all_scores: A matrix (or list of matrices) of dimensions (num_input, num_clusters) where the value is the distance of an input vector and a cluster center.  \n",
    "2. cluster_idx: Each element in the vector corresponds to an input row and specifies the cluster id corresponding to the input.  \n",
    "3. cluster_centers_initialized: scalar indicating whether clusters have been initialized.  \n",
    "4. scores: Similar to cluster_idx but specifies the distance to the assigned cluster instead.  \n",
    "5. init_op: an op to initialize the clusters.  \n",
    "6. training_op: an op that runs an iteration of training.  \n",
    "\n",
    "#### training_graph()  \n",
    "Generate a training graph for kmeans algorithm.  \n",
    "\n",
    "This returns, among other things, an op that chooses initial centers (init_op), a boolean variable that is set to True when the initial centers are chosen (cluster_centers_initialized), and an op to perform either an entire Lloyd iteration or a mini-batch of a Lloyd iteration (training_op). The caller should use these components as follows. A single worker should execute init_op multiple times until cluster_centers_initialized becomes True. Then multiple workers may execute training_op any number of times."
   ]
  },
  {
   "cell_type": "code",
   "execution_count": 130,
   "metadata": {},
   "outputs": [],
   "source": [
    "# Build KMeans graph\n",
    "(all_scores,cluster_idx,scores,cluster_centers_initialized,init_op,train_op) = kmeans.training_graph()\n",
    "cluster_idx = cluster_idx[0] # fix for cluster_idx being a tuple\n",
    "init = tf.global_variables_initializer()\n",
    "# these measure need to be controlled (average distance of points from the cluter center)\n",
    "avg_distance = tf.reduce_mean(scores)"
   ]
  },
  {
   "cell_type": "code",
   "execution_count": 131,
   "metadata": {},
   "outputs": [
    {
     "name": "stdout",
     "output_type": "stream",
     "text": [
      "Epoch 0, Avg Distance: 0.341471\n",
      "Epoch 1, Avg Distance: 0.234025\n",
      "Epoch 10, Avg Distance: 0.221393\n",
      "Epoch 20, Avg Distance: 0.220257\n",
      "Epoch 30, Avg Distance: 0.219734\n",
      "Epoch 40, Avg Distance: 0.219390\n",
      "Epoch 50, Avg Distance: 0.219131\n",
      "Epoch 60, Avg Distance: 0.218920\n",
      "Epoch 70, Avg Distance: 0.218748\n",
      "Epoch 80, Avg Distance: 0.218600\n",
      "Epoch 90, Avg Distance: 0.218473\n"
     ]
    }
   ],
   "source": [
    "# let the session begin\n",
    "sess = tf.Session()\n",
    "sess.run(init)\n",
    "sess.run(init_op, feed_dict={X: full_data_x})\n",
    "\n",
    "# Training\n",
    "for epoch in range(epochs):\n",
    "    _,d,idx = sess.run([train_op,avg_distance,cluster_idx],feed_dict={X:full_data_x})\n",
    "    if (epoch)%10==0 or epoch == 1:\n",
    "        print(\"Epoch %i, Avg Distance: %f\"%(epoch,d))"
   ]
  },
  {
   "cell_type": "code",
   "execution_count": 132,
   "metadata": {},
   "outputs": [
    {
     "data": {
      "text/plain": [
       "(55000,)"
      ]
     },
     "execution_count": 132,
     "metadata": {},
     "output_type": "execute_result"
    }
   ],
   "source": [
    "# array of cluster labels which tells us which input goes to which cluster\n",
    "idx.shape"
   ]
  },
  {
   "cell_type": "code",
   "execution_count": 133,
   "metadata": {},
   "outputs": [
    {
     "data": {
      "text/plain": [
       "array([13, 10,  9, ..., 24,  3,  2])"
      ]
     },
     "execution_count": 133,
     "metadata": {},
     "output_type": "execute_result"
    }
   ],
   "source": [
    "idx"
   ]
  },
  {
   "cell_type": "code",
   "execution_count": 134,
   "metadata": {},
   "outputs": [
    {
     "data": {
      "text/plain": [
       "array([0., 0., 0., 1., 0., 0., 0., 0., 0., 0.])"
      ]
     },
     "execution_count": 134,
     "metadata": {},
     "output_type": "execute_result"
    }
   ],
   "source": [
    "# mnist.train.labels (2d array of identifying)\n",
    "mnist.train.labels[1]"
   ]
  },
  {
   "cell_type": "code",
   "execution_count": 135,
   "metadata": {},
   "outputs": [
    {
     "data": {
      "text/plain": [
       "(55000, 10)"
      ]
     },
     "execution_count": 135,
     "metadata": {},
     "output_type": "execute_result"
    }
   ],
   "source": [
    "# shape of labels\n",
    "mnist.train.labels.shape"
   ]
  },
  {
   "cell_type": "code",
   "execution_count": 136,
   "metadata": {},
   "outputs": [],
   "source": [
    "# Here we are assigning each cluster a label for which we need to check which label is maximum inside which cluster\n",
    "counts = np.zeros(shape=(clusters, classes))\n",
    "for i in range(len(idx)):\n",
    "    counts[idx[i]]+=mnist.train.labels[i]"
   ]
  },
  {
   "cell_type": "code",
   "execution_count": 137,
   "metadata": {},
   "outputs": [
    {
     "data": {
      "text/plain": [
       "[3, 1, 8, 6, 2, 6, 4, 5, 7, 9, 3, 8, 2, 4, 8, 0, 0, 6, 7, 1, 2, 3, 6, 1, 5]"
      ]
     },
     "execution_count": 137,
     "metadata": {},
     "output_type": "execute_result"
    }
   ],
   "source": [
    "# what each cluster points to what as a handwritten digit\n",
    "# clusters are marked with labels according to majority votings\n",
    "labels_map = [np.argmax(c) for c in counts]\n",
    "labels_map"
   ]
  },
  {
   "cell_type": "code",
   "execution_count": 138,
   "metadata": {},
   "outputs": [],
   "source": [
    "# converted to tensor\n",
    "labels_map_tensor = tf.convert_to_tensor(labels_map)"
   ]
  },
  {
   "cell_type": "code",
   "execution_count": 139,
   "metadata": {},
   "outputs": [],
   "source": [
    "# which cluster should get what label after training\n",
    "# labels_map_tensor has cluster id wise centroid labels and cluster_idx has cluster ids so this \n",
    "# look up converts cluster_ids into mnist digit values\n",
    "cluster_labels = tf.nn.embedding_lookup(labels_map_tensor, cluster_idx)"
   ]
  },
  {
   "cell_type": "code",
   "execution_count": 140,
   "metadata": {},
   "outputs": [
    {
     "name": "stdout",
     "output_type": "stream",
     "text": [
      "Test Accuracy: [0.7273]\n"
     ]
    }
   ],
   "source": [
    "# accuracy (tf.int32 for 0s and 1s)\n",
    "correct_prediction = tf.equal(cluster_labels, tf.cast(tf.argmax(Y, 1), tf.int32))\n",
    "accuracy_op = tf.reduce_mean(tf.cast(correct_prediction, tf.float32))\n",
    "# test the model\n",
    "test_x, test_y = mnist.test.images, mnist.test.labels\n",
    "print(\"Test Accuracy:\", sess.run([accuracy_op], feed_dict={X: test_x, Y: test_y}))"
   ]
  },
  {
   "cell_type": "markdown",
   "metadata": {},
   "source": [
    "#### Learning\n",
    "1. accuracy_op calls --> correct_prediction calls --> cluster_labels calls --> labels_map_tensor calls --> labels_map calls --> counts calls --> idx calls --> train_op, avg_distance =-= needs X"
   ]
  }
 ],
 "metadata": {
  "kernelspec": {
   "display_name": "Python 3",
   "language": "python",
   "name": "python3"
  },
  "language_info": {
   "codemirror_mode": {
    "name": "ipython",
    "version": 3
   },
   "file_extension": ".py",
   "mimetype": "text/x-python",
   "name": "python",
   "nbconvert_exporter": "python",
   "pygments_lexer": "ipython3",
   "version": "3.6.3"
  }
 },
 "nbformat": 4,
 "nbformat_minor": 2
}
